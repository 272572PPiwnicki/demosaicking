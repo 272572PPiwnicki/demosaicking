import numpy as np
from scipy import ndimage
from skimage import io
from skimage import transform

from src.conv import convolve_with_stride


image = io.imread(r"../../data/image.jpg")
image = image[:,:,:3]  # ignore last dimension if RGBA image is used
image = transform.resize(image, output_shape=(1024, 1024, 3))  # make image shape divisible by maks size 
image.shape

/*(1024, 1024, 3)*/

def color_filter_array(mask, shape):
    """Simulate CFA for given mask and image size"""
    return np.dstack([np.tile(color_mask, np.asarray(shape) // len(color_mask)) for color_mask in mask])
